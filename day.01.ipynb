{
 "cells": [
  {
   "cell_type": "markdown",
   "id": "5ad90425-320f-4c7d-aa2d-9702f332331b",
   "metadata": {},
   "source": [
    "# Day 1: Calorie Counting\n",
    "\n",
    "[https://adventofcode.com/2022/day/1](https://adventofcode.com/2022/day/1)\n",
    "\n",
    "## Description\n",
    "\n",
    "### Part One\n",
    "\n",
    "Santa's reindeer typically eat regular reindeer food, but they need a lot of [magical energy](https://adventofcode.com/2018/day/25) to deliver presents on Christmas. For that, their favorite snack is a special type of _star_ fruit that only grows deep in the jungle. The Elves have brought you on their annual expedition to the grove where the fruit grows.\n",
    "\n",
    "To supply enough magical energy, the expedition needs to retrieve a minimum of _fifty stars_ by December 25th. Although the Elves assure you that the grove has plenty of fruit, you decide to grab any fruit you see along the way, just in case.\n",
    "\n",
    "Collect stars by solving puzzles. Two puzzles will be made available on each day in the Advent calendar; the second puzzle is unlocked when you complete the first. Each puzzle grants _one star_. Good luck!\n",
    "\n",
    "The jungle must be too overgrown and difficult to navigate in vehicles or access from the air; the Elves' expedition traditionally goes on foot. As your boats approach land, the Elves begin taking inventory of their supplies. One important consideration is food - in particular, the number of _Calories_ each Elf is carrying (your puzzle input).\n",
    "\n",
    "The Elves take turns writing down the number of Calories contained by the various meals, snacks, rations, <span title=\"By &quot;etc&quot;, you're pretty sure they just mean &quot;more snacks&quot;.\">etc.</span> that they've brought with them, one item per line. Each Elf separates their own inventory from the previous Elf's inventory (if any) by a blank line.\n",
    "\n",
    "For example, suppose the Elves finish writing their items' Calories and end up with the following list:\n",
    "\n",
    "    1000\n",
    "    2000\n",
    "    3000\n",
    "    \n",
    "    4000\n",
    "    \n",
    "    5000\n",
    "    6000\n",
    "    \n",
    "    7000\n",
    "    8000\n",
    "    9000\n",
    "    \n",
    "    10000\n",
    "    \n",
    "\n",
    "This list represents the Calories of the food carried by five Elves:\n",
    "\n",
    "*   The first Elf is carrying food with `1000`, `2000`, and `3000` Calories, a total of _`6000`_ Calories.\n",
    "*   The second Elf is carrying one food item with _`4000`_ Calories.\n",
    "*   The third Elf is carrying food with `5000` and `6000` Calories, a total of _`11000`_ Calories.\n",
    "*   The fourth Elf is carrying food with `7000`, `8000`, and `9000` Calories, a total of _`24000`_ Calories.\n",
    "*   The fifth Elf is carrying one food item with _`10000`_ Calories.\n",
    "\n",
    "In case the Elves get hungry and need extra snacks, they need to know which Elf to ask: they'd like to know how many Calories are being carried by the Elf carrying the _most_ Calories. In the example above, this is _`24000`_ (carried by the fourth Elf).\n",
    "\n",
    "Find the Elf carrying the most Calories. _How many total Calories is that Elf carrying?_"
   ]
  },
  {
   "cell_type": "code",
   "execution_count": 1,
   "id": "a024490f-a718-4ee4-a701-346b5f1a5d08",
   "metadata": {},
   "outputs": [
    {
     "data": {
      "text/plain": [
       "67450"
      ]
     },
     "execution_count": 1,
     "metadata": {},
     "output_type": "execute_result"
    }
   ],
   "source": [
    "input = open('day.01.input.txt', 'r').readlines()\n",
    "input = [[int(si) for si in s.split('\\n')] for s in ''.join(input).split('\\n\\n')]\n",
    "\n",
    "max([sum(l) for l in input])"
   ]
  },
  {
   "cell_type": "markdown",
   "id": "0aa2a595-b98d-43d1-8fd5-129a40e39324",
   "metadata": {},
   "source": [
    "### Part Two\n",
    "\n",
    "By the time you calculate the answer to the Elves' question, they've already realized that the Elf carrying the most Calories of food might eventually _run out of snacks_.\n",
    "\n",
    "To avoid this unacceptable situation, the Elves would instead like to know the total Calories carried by the _top three_ Elves carrying the most Calories. That way, even if one of those Elves runs out of snacks, they still have two backups.\n",
    "\n",
    "In the example above, the top three Elves are the fourth Elf (with `24000` Calories), then the third Elf (with `11000` Calories), then the fifth Elf (with `10000` Calories). The sum of the Calories carried by these three elves is _`45000`_.\n",
    "\n",
    "Find the top three Elves carrying the most Calories. _How many Calories are those Elves carrying in total?_\n"
   ]
  },
  {
   "cell_type": "code",
   "execution_count": 2,
   "id": "ed31d572-ee99-4f9e-88dc-d64b3ed1b5f9",
   "metadata": {},
   "outputs": [
    {
     "data": {
      "text/plain": [
       "199357"
      ]
     },
     "execution_count": 2,
     "metadata": {},
     "output_type": "execute_result"
    }
   ],
   "source": [
    "sum(sorted([sum(l) for l in input])[-3:])"
   ]
  }
 ],
 "metadata": {
  "kernelspec": {
   "display_name": "Python 3 (ipykernel)",
   "language": "python",
   "name": "python3"
  },
  "language_info": {
   "codemirror_mode": {
    "name": "ipython",
    "version": 3
   },
   "file_extension": ".py",
   "mimetype": "text/x-python",
   "name": "python",
   "nbconvert_exporter": "python",
   "pygments_lexer": "ipython3",
   "version": "3.9.2"
  }
 },
 "nbformat": 4,
 "nbformat_minor": 5
}
