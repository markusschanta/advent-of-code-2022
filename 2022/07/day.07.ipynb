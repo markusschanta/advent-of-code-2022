{
 "cells": [
  {
   "cell_type": "markdown",
   "id": "5ad90425-320f-4c7d-aa2d-9702f332331b",
   "metadata": {
    "tags": []
   },
   "source": [
    "# Day 7: No Space Left On Device\n",
    "\n",
    "[https://adventofcode.com/2022/day/7](https://adventofcode.com/2022/day/7)\n",
    "\n",
    "## Description\n",
    "\n",
    "### Part One\n",
    "\n",
    "You can hear birds chirping and raindrops hitting leaves as the expedition proceeds. Occasionally, you can even hear much louder sounds in the distance; how big do the animals get out here, anyway?\n",
    "\n",
    "The device the Elves gave you has problems with more than just its communication system. You try to run a system update:\n",
    "\n",
    "    $ system-update --please --pretty-please-with-sugar-on-top\n",
    "    Error: No space left on device\n",
    "    \n",
    "\n",
    "Perhaps you can delete some files to make space for the update?\n",
    "\n",
    "You browse around the filesystem to assess the situation and save the resulting terminal output (your puzzle input). For example:\n",
    "\n",
    "    $ cd /\n",
    "    $ ls\n",
    "    dir a\n",
    "    14848514 b.txt\n",
    "    8504156 c.dat\n",
    "    dir d\n",
    "    $ cd a\n",
    "    $ ls\n",
    "    dir e\n",
    "    29116 f\n",
    "    2557 g\n",
    "    62596 h.lst\n",
    "    $ cd e\n",
    "    $ ls\n",
    "    584 i\n",
    "    $ cd ..\n",
    "    $ cd ..\n",
    "    $ cd d\n",
    "    $ ls\n",
    "    4060174 j\n",
    "    8033020 d.log\n",
    "    5626152 d.ext\n",
    "    7214296 k\n",
    "    \n",
    "\n",
    "The filesystem consists of a tree of files (plain data) and directories (which can contain other directories or files). The outermost directory is called `/`. You can navigate around the filesystem, moving into or out of directories and listing the contents of the directory you're currently in.\n",
    "\n",
    "Within the terminal output, lines that begin with `$` are _commands you executed_, very much like some modern computers:\n",
    "\n",
    "*   `cd` means _change directory_. This changes which directory is the current directory, but the specific result depends on the argument:\n",
    "    *   `cd x` moves _in_ one level: it looks in the current directory for the directory named `x` and makes it the current directory.\n",
    "    *   `cd ..` moves _out_ one level: it finds the directory that contains the current directory, then makes that directory the current directory.\n",
    "    *   `cd /` switches the current directory to the outermost directory, `/`.\n",
    "*   `ls` means _list_. It prints out all of the files and directories immediately contained by the current directory:\n",
    "    *   `123 abc` means that the current directory contains a file named `abc` with size `123`.\n",
    "    *   `dir xyz` means that the current directory contains a directory named `xyz`.\n",
    "\n",
    "Given the commands and output in the example above, you can determine that the filesystem looks visually like this:\n",
    "\n",
    "    - / (dir)\n",
    "      - a (dir)\n",
    "        - e (dir)\n",
    "          - i (file, size=584)\n",
    "        - f (file, size=29116)\n",
    "        - g (file, size=2557)\n",
    "        - h.lst (file, size=62596)\n",
    "      - b.txt (file, size=14848514)\n",
    "      - c.dat (file, size=8504156)\n",
    "      - d (dir)\n",
    "        - j (file, size=4060174)\n",
    "        - d.log (file, size=8033020)\n",
    "        - d.ext (file, size=5626152)\n",
    "        - k (file, size=7214296)\n",
    "    \n",
    "\n",
    "Here, there are four directories: `/` (the outermost directory), `a` and `d` (which are in `/`), and `e` (which is in `a`). These directories also contain files of various sizes.\n",
    "\n",
    "Since the disk is full, your first step should probably be to find directories that are good candidates for deletion. To do this, you need to determine the _total size_ of each directory. The total size of a directory is the sum of the sizes of the files it contains, directly or indirectly. (Directories themselves do not count as having any intrinsic size.)\n",
    "\n",
    "The total sizes of the directories above can be found as follows:\n",
    "\n",
    "*   The total size of directory `e` is _584_ because it contains a single file `i` of size 584 and no other directories.\n",
    "*   The directory `a` has total size _94853_ because it contains files `f` (size 29116), `g` (size 2557), and `h.lst` (size 62596), plus file `i` indirectly (`a` contains `e` which contains `i`).\n",
    "*   Directory `d` has total size _24933642_.\n",
    "*   As the outermost directory, `/` contains every file. Its total size is _48381165_, the sum of the size of every file.\n",
    "\n",
    "To begin, find all of the directories with a total size of _at most 100000_, then calculate the sum of their total sizes. In the example above, these directories are `a` and `e`; the sum of their total sizes is _`95437`_ (94853 + 584). (As in this example, this process can count files more than once!)\n",
    "\n",
    "Find all of the directories with a total size of at most 100000. _What is the sum of the total sizes of those directories?_"
   ]
  },
  {
   "cell_type": "code",
   "execution_count": 1,
   "id": "7336b37d-bfe8-4a1d-9e84-4af90282709d",
   "metadata": {},
   "outputs": [
    {
     "data": {
      "text/plain": [
       "1477771"
      ]
     },
     "execution_count": 1,
     "metadata": {},
     "output_type": "execute_result"
    }
   ],
   "source": [
    "import re\n",
    "\n",
    "data = open(\"day.07.input.txt\").read().split(\"\\n\")\n",
    "\n",
    "folders = dict()\n",
    "current_dir = [\"\"]\n",
    "\n",
    "for row in data:\n",
    "    if row.startswith('$'):\n",
    "        if row == '$ cd ..':\n",
    "            current_dir.pop()\n",
    "        elif row.startswith('$ cd '):\n",
    "            current_dir.append(row[5:])\n",
    "    else:\n",
    "        if not row.startswith('dir '):\n",
    "            size = int(row.split(' ')[0])\n",
    "            path = \"\"\n",
    "            for dir in current_dir:\n",
    "                path += \"/\" + dir\n",
    "                if not path in folders:\n",
    "                    folders[path] = 0\n",
    "                folders[path] += size\n",
    "\n",
    "sum([s for f, s in folders.items() if s <= 100_000])"
   ]
  },
  {
   "cell_type": "markdown",
   "id": "714d8c9d-c000-4744-9a16-aea816d71009",
   "metadata": {},
   "source": [
    "### Part Two\n",
    "\n",
    "Now, you're ready to choose a directory to delete.\n",
    "\n",
    "The total disk space available to the filesystem is _`70000000`_. To run the update, you need unused space of at least _`30000000`_. You need to find a directory you can delete that will _free up enough space_ to run the update.\n",
    "\n",
    "In the example above, the total size of the outermost directory (and thus the total amount of used space) is `48381165`; this means that the size of the _unused_ space must currently be `21618835`, which isn't quite the `30000000` required by the update. Therefore, the update still requires a directory with total size of at least `8381165` to be deleted before it can run.\n",
    "\n",
    "To achieve this, you have the following options:\n",
    "\n",
    "*   Delete directory `e`, which would increase unused space by `584`.\n",
    "*   Delete directory `a`, which would increase unused space by `94853`.\n",
    "*   Delete directory `d`, which would increase unused space by `24933642`.\n",
    "*   Delete directory `/`, which would increase unused space by `48381165`.\n",
    "\n",
    "Directories `e` and `a` are both too small; deleting them would not free up enough space. However, directories `d` and `/` are both big enough! Between these, choose the _smallest_: `d`, increasing unused space by _`24933642`_.\n",
    "\n",
    "Find the smallest directory that, if deleted, would free up enough space on the filesystem to run the update. _What is the total size of that directory?_"
   ]
  },
  {
   "cell_type": "code",
   "execution_count": 2,
   "id": "8e95a091-3f10-4b10-8199-4c28c536a630",
   "metadata": {},
   "outputs": [
    {
     "data": {
      "text/plain": [
       "3579501"
      ]
     },
     "execution_count": 2,
     "metadata": {},
     "output_type": "execute_result"
    }
   ],
   "source": [
    "min_free_up_space = folders[\"/\"] - 70000000 + 30000000\n",
    "\n",
    "min([s for f, s in folders.items() if s > min_free_up_space])"
   ]
  }
 ],
 "metadata": {
  "kernelspec": {
   "display_name": "Python 3 (ipykernel)",
   "language": "python",
   "name": "python3"
  },
  "language_info": {
   "codemirror_mode": {
    "name": "ipython",
    "version": 3
   },
   "file_extension": ".py",
   "mimetype": "text/x-python",
   "name": "python",
   "nbconvert_exporter": "python",
   "pygments_lexer": "ipython3",
   "version": "3.9.2"
  }
 },
 "nbformat": 4,
 "nbformat_minor": 5
}
