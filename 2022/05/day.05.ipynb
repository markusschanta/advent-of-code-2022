{
 "cells": [
  {
   "cell_type": "markdown",
   "id": "5ad90425-320f-4c7d-aa2d-9702f332331b",
   "metadata": {
    "tags": []
   },
   "source": [
    "# Day 5: Supply Stacks\n",
    "\n",
    "[https://adventofcode.com/2022/day/5](https://adventofcode.com/2022/day/5)\n",
    "\n",
    "## Description\n",
    "\n",
    "### Part One\n",
    "\n",
    "The expedition can depart as soon as the final supplies have been unloaded from the ships. Supplies are stored in stacks of marked _crates_, but because the needed supplies are buried under many other crates, the crates need to be rearranged.\n",
    "\n",
    "The ship has a _giant cargo crane_ capable of moving crates between stacks. To ensure none of the crates get crushed or fall over, the crane operator will rearrange them in a series of carefully-planned steps. After the crates are rearranged, the desired crates will be at the top of each stack.\n",
    "\n",
    "The Elves don't want to interrupt the crane operator during this delicate procedure, but they forgot to ask her _which_ crate will end up where, and they want to be ready to unload them as soon as possible so they can embark.\n",
    "\n",
    "They do, however, have a drawing of the starting stacks of crates _and_ the rearrangement procedure (your puzzle input). For example:\n",
    "\n",
    "        [D]    \n",
    "    [N] [C]    \n",
    "    [Z] [M] [P]\n",
    "     1   2   3 \n",
    "    \n",
    "    move 1 from 2 to 1\n",
    "    move 3 from 1 to 3\n",
    "    move 2 from 2 to 1\n",
    "    move 1 from 1 to 2\n",
    "    \n",
    "\n",
    "In this example, there are three stacks of crates. Stack 1 contains two crates: crate `Z` is on the bottom, and crate `N` is on top. Stack 2 contains three crates; from bottom to top, they are crates `M`, `C`, and `D`. Finally, stack 3 contains a single crate, `P`.\n",
    "\n",
    "Then, the rearrangement procedure is given. In each step of the procedure, a quantity of crates is moved from one stack to a different stack. In the first step of the above rearrangement procedure, one crate is moved from stack 2 to stack 1, resulting in this configuration:\n",
    "\n",
    "    [D]        \n",
    "    [N] [C]    \n",
    "    [Z] [M] [P]\n",
    "     1   2   3 \n",
    "    \n",
    "\n",
    "In the second step, three crates are moved from stack 1 to stack 3. Crates are moved _one at a time_, so the first crate to be moved (`D`) ends up below the second and third crates:\n",
    "\n",
    "            [Z]\n",
    "            [N]\n",
    "        [C] [D]\n",
    "        [M] [P]\n",
    "     1   2   3\n",
    "    \n",
    "\n",
    "Then, both crates are moved from stack 2 to stack 1. Again, because crates are moved _one at a time_, crate `C` ends up below crate `M`:\n",
    "\n",
    "            [Z]\n",
    "            [N]\n",
    "    [M]     [D]\n",
    "    [C]     [P]\n",
    "     1   2   3\n",
    "    \n",
    "\n",
    "Finally, one crate is moved from stack 1 to stack 2:\n",
    "\n",
    "            [Z]\n",
    "            [N]\n",
    "            [D]\n",
    "    [C] [M] [P]\n",
    "     1   2   3\n",
    "    \n",
    "\n",
    "The Elves just need to know _which crate will end up on top of each stack_; in this example, the top crates are `C` in stack 1, `M` in stack 2, and `Z` in stack 3, so you should combine these together and give the Elves the message _`CMZ`_.\n",
    "\n",
    "_After the rearrangement procedure completes, what crate ends up on top of each stack?_"
   ]
  },
  {
   "cell_type": "code",
   "execution_count": 1,
   "id": "7336b37d-bfe8-4a1d-9e84-4af90282709d",
   "metadata": {},
   "outputs": [
    {
     "data": {
      "text/plain": [
       "'QMBMJDFTD'"
      ]
     },
     "execution_count": 1,
     "metadata": {},
     "output_type": "execute_result"
    }
   ],
   "source": [
    "input = open('day.05.input.txt', 'r').readlines()\n",
    "input = [i.replace('\\n','') for i in input]\n",
    "separator = [i for i, s in enumerate(input) if ((s[1] == '1') if len(s) >= 2 else False)][0]\n",
    "stack_lines = [[s[x + 1] for x in range(0, len(s), 4) ] for s in input[:separator][::-1]]\n",
    "stacks = [[] for i in range(0, len(stack_lines[0]))]\n",
    "\n",
    "for l in stack_lines:\n",
    "    for i, item in enumerate(l):\n",
    "        if item != ' ':\n",
    "            stacks[i].append(item)\n",
    "\n",
    "for op in input[separator + 2:]:\n",
    "    parts = op.split(' ')\n",
    "    for i in range(0, int(parts[1])):\n",
    "        stacks[int(parts[5]) - 1].append(stacks[int(parts[3]) - 1].pop())\n",
    "        \n",
    "''.join([s[-1] for s in stacks])"
   ]
  },
  {
   "cell_type": "markdown",
   "id": "0aa2a595-b98d-43d1-8fd5-129a40e39324",
   "metadata": {
    "tags": []
   },
   "source": [
    "### Part Two\n",
    "\n",
    "As you watch the crane operator expertly rearrange the crates, you notice the process isn't following your prediction.\n",
    "\n",
    "Some mud was covering the writing on the side of the crane, and you quickly wipe it away. The crane isn't a CrateMover 9000 - it's a _<span title=\"It's way better than the old CrateMover 1006.\">CrateMover 9001</span>_.\n",
    "\n",
    "The CrateMover 9001 is notable for many new and exciting features: air conditioning, leather seats, an extra cup holder, and _the ability to pick up and move multiple crates at once_.\n",
    "\n",
    "Again considering the example above, the crates begin in the same configuration:\n",
    "\n",
    "        [D]    \n",
    "    [N] [C]    \n",
    "    [Z] [M] [P]\n",
    "     1   2   3 \n",
    "    \n",
    "\n",
    "Moving a single crate from stack 2 to stack 1 behaves the same as before:\n",
    "\n",
    "    [D]        \n",
    "    [N] [C]    \n",
    "    [Z] [M] [P]\n",
    "     1   2   3 \n",
    "    \n",
    "\n",
    "However, the action of moving three crates from stack 1 to stack 3 means that those three moved crates _stay in the same order_, resulting in this new configuration:\n",
    "\n",
    "            [D]\n",
    "            [N]\n",
    "        [C] [Z]\n",
    "        [M] [P]\n",
    "     1   2   3\n",
    "    \n",
    "\n",
    "Next, as both crates are moved from stack 2 to stack 1, they _retain their order_ as well:\n",
    "\n",
    "            [D]\n",
    "            [N]\n",
    "    [C]     [Z]\n",
    "    [M]     [P]\n",
    "     1   2   3\n",
    "    \n",
    "\n",
    "Finally, a single crate is still moved from stack 1 to stack 2, but now it's crate `C` that gets moved:\n",
    "\n",
    "            [D]\n",
    "            [N]\n",
    "            [Z]\n",
    "    [M] [C] [P]\n",
    "     1   2   3\n",
    "    \n",
    "\n",
    "In this example, the CrateMover 9001 has put the crates in a totally different order: _`MCD`_.\n",
    "\n",
    "Before the rearrangement process finishes, update your simulation so that the Elves know where they should stand to be ready to unload the final supplies. _After the rearrangement procedure completes, what crate ends up on top of each stack?_"
   ]
  },
  {
   "cell_type": "code",
   "execution_count": 2,
   "id": "36c5315d-685a-4359-8fd9-442f26822420",
   "metadata": {},
   "outputs": [
    {
     "data": {
      "text/plain": [
       "'NBTVTJNFJ'"
      ]
     },
     "execution_count": 2,
     "metadata": {},
     "output_type": "execute_result"
    }
   ],
   "source": [
    "stacks = [[] for i in range(0, len(stack_lines[0]))]\n",
    "\n",
    "for l in stack_lines:\n",
    "    for i, item in enumerate(l):\n",
    "        if item != ' ':\n",
    "            stacks[i].append(item)\n",
    "\n",
    "for op in input[separator + 2:]:\n",
    "    parts = op.split(' ')\n",
    "    for i in range(0, int(parts[1])):\n",
    "        stacks[int(parts[5]) - 1].append(stacks[int(parts[3]) - 1].pop(-(int(parts[1]) - i)))\n",
    "        \n",
    "''.join([s[-1] for s in stacks])"
   ]
  }
 ],
 "metadata": {
  "kernelspec": {
   "display_name": "Python 3 (ipykernel)",
   "language": "python",
   "name": "python3"
  },
  "language_info": {
   "codemirror_mode": {
    "name": "ipython",
    "version": 3
   },
   "file_extension": ".py",
   "mimetype": "text/x-python",
   "name": "python",
   "nbconvert_exporter": "python",
   "pygments_lexer": "ipython3",
   "version": "3.9.2"
  }
 },
 "nbformat": 4,
 "nbformat_minor": 5
}
