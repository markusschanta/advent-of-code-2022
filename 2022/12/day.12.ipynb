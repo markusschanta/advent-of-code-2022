{
 "cells": [
  {
   "cell_type": "markdown",
   "id": "dada93d6-d8e0-4e00-b482-dc6a0de32426",
   "metadata": {},
   "source": [
    "# Day 12: Hill Climbing Algorithm\n",
    "\n",
    "[https://adventofcode.com/2022/day/12](https://adventofcode.com/2022/day/12)\n",
    "\n",
    "## Description\n",
    "\n",
    "### Part One\n",
    "\n",
    "You try contacting the Elves using your <span title=\"When you look up the specs for your handheld device, every field just says &quot;plot&quot;.\">handheld device</span>, but the river you're following must be too low to get a decent signal.\n",
    "\n",
    "You ask the device for a heightmap of the surrounding area (your puzzle input). The heightmap shows the local area from above broken into a grid; the elevation of each square of the grid is given by a single lowercase letter, where `a` is the lowest elevation, `b` is the next-lowest, and so on up to the highest elevation, `z`.\n",
    "\n",
    "Also included on the heightmap are marks for your current position (`S`) and the location that should get the best signal (`E`). Your current position (`S`) has elevation `a`, and the location that should get the best signal (`E`) has elevation `z`.\n",
    "\n",
    "You'd like to reach `E`, but to save energy, you should do it in _as few steps as possible_. During each step, you can move exactly one square up, down, left, or right. To avoid needing to get out your climbing gear, the elevation of the destination square can be _at most one higher_ than the elevation of your current square; that is, if your current elevation is `m`, you could step to elevation `n`, but not to elevation `o`. (This also means that the elevation of the destination square can be much lower than the elevation of your current square.)\n",
    "\n",
    "For example:\n",
    "\n",
    "    Sabqponm\n",
    "    abcryxxl\n",
    "    accszExk\n",
    "    acctuvwj\n",
    "    abdefghi\n",
    "    \n",
    "\n",
    "Here, you start in the top-left corner; your goal is near the middle. You could start by moving down or right, but eventually you'll need to head toward the `e` at the bottom. From there, you can spiral around to the goal:\n",
    "\n",
    "    v..v<<<<\n",
    "    >v.vv<<^\n",
    "    .>vv>E^^\n",
    "    ..v>>>^^\n",
    "    ..>>>>>^\n",
    "    \n",
    "\n",
    "In the above diagram, the symbols indicate whether the path exits each square moving up (`^`), down (`v`), left (`<`), or right (`>`). The location that should get the best signal is still `E`, and `.` marks unvisited squares.\n",
    "\n",
    "This path reaches the goal in _`31`_ steps, the fewest possible.\n",
    "\n",
    "_What is the fewest steps required to move from your current position to the location that should get the best signal?_"
   ]
  },
  {
   "cell_type": "code",
   "execution_count": 1,
   "id": "c0a3dfa6-ecdc-488d-81fb-c3e00bb7f13b",
   "metadata": {},
   "outputs": [
    {
     "name": "stdout",
     "output_type": "stream",
     "text": [
      "440\n"
     ]
    }
   ],
   "source": [
    "# Solution based on: https://github.com/juanplopes/advent-of-code-2022/blob/main/day12.py\n",
    "\n",
    "import sys, collections\n",
    "\n",
    "def solve(grid, *start):\n",
    "    Q = collections.deque((i, j, 0, 'a') for i in range(len(grid)) \n",
    "                    for j in range(len(grid[i])) \n",
    "                    if grid[i][j] in start)\n",
    "    visited = set((i, j) for i, j, _, _ in Q)\n",
    "\n",
    "    def push(i, j, d, a):\n",
    "        if not 0 <= i < len(grid) or not 0 <= j < len(grid[i]): return\n",
    "        if (i, j) in visited: return\n",
    "        b = grid[i][j].replace('E', 'z')\n",
    "        if ord(b) > ord(a) + 1: return\n",
    "        visited.add((i, j))\n",
    "        Q.append((i, j, d + 1, b))\n",
    "\n",
    "    while len(Q):\n",
    "        i, j, d, a = Q.popleft()\n",
    "        if grid[i][j] == 'E': return d\n",
    "        push(i + 1, j, d, a)\n",
    "        push(i - 1, j, d, a)\n",
    "        push(i, j + 1, d, a)\n",
    "        push(i, j - 1, d, a)\n",
    "\n",
    "grid = open(\"day.12.input.txt\", \"r\").read().split('\\n')\n",
    "print(solve(grid, 'S'))"
   ]
  },
  {
   "cell_type": "markdown",
   "id": "89fe0b8e-2f83-4d14-9077-d81c90c2834c",
   "metadata": {},
   "source": [
    "### Part Two\n",
    "\n",
    "As you walk up the hill, you suspect that the Elves will want to turn this into a hiking trail. The beginning isn't very scenic, though; perhaps you can find a better starting point.\n",
    "\n",
    "To maximize exercise while hiking, the trail should start as low as possible: elevation `a`. The goal is still the square marked `E`. However, the trail should still be direct, taking the fewest steps to reach its goal. So, you'll need to find the shortest path from _any square at elevation `a`_ to the square marked `E`.\n",
    "\n",
    "Again consider the example from above:\n",
    "\n",
    "    Sabqponm\n",
    "    abcryxxl\n",
    "    accszExk\n",
    "    acctuvwj\n",
    "    abdefghi\n",
    "    \n",
    "\n",
    "Now, there are six choices for starting position (five marked `a`, plus the square marked `S` that counts as being at elevation `a`). If you start at the bottom-left square, you can reach the goal most quickly:\n",
    "\n",
    "    ...v<<<<\n",
    "    ...vv<<^\n",
    "    ...v>E^^\n",
    "    .>v>>>^^\n",
    "    >^>>>>>^\n",
    "    \n",
    "\n",
    "This path reaches the goal in only _`29`_ steps, the fewest possible.\n",
    "\n",
    "_What is the fewest steps required to move starting from any square with elevation `a` to the location that should get the best signal?_"
   ]
  },
  {
   "cell_type": "code",
   "execution_count": 2,
   "id": "03bfb0c9-0103-4b8f-b7e5-f6b0ac228f48",
   "metadata": {},
   "outputs": [
    {
     "name": "stdout",
     "output_type": "stream",
     "text": [
      "439\n"
     ]
    }
   ],
   "source": [
    "print(solve(grid, 'S', 'a'))"
   ]
  }
 ],
 "metadata": {
  "kernelspec": {
   "display_name": "Python 3 (ipykernel)",
   "language": "python",
   "name": "python3"
  },
  "language_info": {
   "codemirror_mode": {
    "name": "ipython",
    "version": 3
   },
   "file_extension": ".py",
   "mimetype": "text/x-python",
   "name": "python",
   "nbconvert_exporter": "python",
   "pygments_lexer": "ipython3",
   "version": "3.7.0"
  }
 },
 "nbformat": 4,
 "nbformat_minor": 5
}
