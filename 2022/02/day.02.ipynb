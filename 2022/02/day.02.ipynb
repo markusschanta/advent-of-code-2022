{
 "cells": [
  {
   "cell_type": "markdown",
   "id": "5ad90425-320f-4c7d-aa2d-9702f332331b",
   "metadata": {
    "tags": []
   },
   "source": [
    "# Day 2: Rock Paper Scissors\n",
    "\n",
    "[https://adventofcode.com/2022/day/2](https://adventofcode.com/2022/day/2)\n",
    "\n",
    "## Description\n",
    "\n",
    "### Part One\n",
    "\n",
    "The Elves begin to set up camp on the beach. To decide whose tent gets to be closest to the snack storage, a giant [Rock Paper Scissors](https://en.wikipedia.org/wiki/Rock_paper_scissors) tournament is already in progress.\n",
    "\n",
    "Rock Paper Scissors is a game between two players. Each game contains many rounds; in each round, the players each simultaneously choose one of Rock, Paper, or Scissors using a hand shape. Then, a winner for that round is selected: Rock defeats Scissors, Scissors defeats Paper, and Paper defeats Rock. If both players choose the same shape, the round instead ends in a draw.\n",
    "\n",
    "Appreciative of your help yesterday, one Elf gives you an _encrypted strategy guide_ (your puzzle input) that they say will be sure to help you win. \"The first column is what your opponent is going to play: `A` for Rock, `B` for Paper, and `C` for Scissors. The second column--\" Suddenly, the Elf is called away to help with someone's tent.\n",
    "\n",
    "The second column, <span title=\"Why do you keep guessing?!\">you reason</span>, must be what you should play in response: `X` for Rock, `Y` for Paper, and `Z` for Scissors. Winning every time would be suspicious, so the responses must have been carefully chosen.\n",
    "\n",
    "The winner of the whole tournament is the player with the highest score. Your _total score_ is the sum of your scores for each round. The score for a single round is the score for the _shape you selected_ (1 for Rock, 2 for Paper, and 3 for Scissors) plus the score for the _outcome of the round_ (0 if you lost, 3 if the round was a draw, and 6 if you won).\n",
    "\n",
    "Since you can't be sure if the Elf is trying to help you or trick you, you should calculate the score you would get if you were to follow the strategy guide.\n",
    "\n",
    "For example, suppose you were given the following strategy guide:\n",
    "\n",
    "    A Y\n",
    "    B X\n",
    "    C Z\n",
    "    \n",
    "\n",
    "This strategy guide predicts and recommends the following:\n",
    "\n",
    "*   In the first round, your opponent will choose Rock (`A`), and you should choose Paper (`Y`). This ends in a win for you with a score of _8_ (2 because you chose Paper + 6 because you won).\n",
    "*   In the second round, your opponent will choose Paper (`B`), and you should choose Rock (`X`). This ends in a loss for you with a score of _1_ (1 + 0).\n",
    "*   The third round is a draw with both players choosing Scissors, giving you a score of 3 + 3 = _6_.\n",
    "\n",
    "In this example, if you were to follow the strategy guide, you would get a total score of _`15`_ (8 + 1 + 6).\n",
    "\n",
    "_What would your total score be if everything goes exactly according to your strategy guide?_"
   ]
  },
  {
   "cell_type": "code",
   "execution_count": 1,
   "id": "a024490f-a718-4ee4-a701-346b5f1a5d08",
   "metadata": {},
   "outputs": [
    {
     "data": {
      "text/plain": [
       "10404"
      ]
     },
     "execution_count": 1,
     "metadata": {},
     "output_type": "execute_result"
    }
   ],
   "source": [
    "import pandas as pd\n",
    "\n",
    "input = open('day.02.input.txt', 'r').readlines()\n",
    "input = pd.DataFrame([i.replace('\\n','').split(' ') for i in input], columns=['opo', 'own'])\n",
    "\n",
    "def score_outcome(opo, own):\n",
    "    if opo == 'A':\n",
    "        if own == 'X': return 3\n",
    "        elif own == 'Y': return 6\n",
    "        elif own == 'Z': return 0\n",
    "    elif opo == 'B':\n",
    "        if own == 'X': return 0\n",
    "        elif own == 'Y': return 3\n",
    "        elif own == 'Z': return 6\n",
    "    elif opo == 'C':\n",
    "        if own == 'X': return 6\n",
    "        elif own == 'Y': return 0\n",
    "        elif own == 'Z': return 3\n",
    "\n",
    "def score_choice(own):\n",
    "    if own == 'X': return 1\n",
    "    elif own == 'Y': return 2\n",
    "    elif own == 'Z': return 3\n",
    "\n",
    "input['score_outcome'] = input.apply(lambda r: score_outcome(r['opo'], r['own']), axis=1)\n",
    "input['score_choice'] = input.apply(lambda r: score_choice(r['own']), axis=1)\n",
    "\n",
    "input['score'] = input['score_outcome'] + input['score_choice']\n",
    "\n",
    "input['score'].sum()"
   ]
  },
  {
   "cell_type": "markdown",
   "id": "0aa2a595-b98d-43d1-8fd5-129a40e39324",
   "metadata": {
    "tags": []
   },
   "source": [
    "### Part Two\n",
    "\n",
    "The Elf finishes helping with the tent and sneaks back over to you. \"Anyway, the second column says how the round needs to end: `X` means you need to lose, `Y` means you need to end the round in a draw, and `Z` means you need to win. Good luck!\"\n",
    "\n",
    "The total score is still calculated in the same way, but now you need to figure out what shape to choose so the round ends as indicated. The example above now goes like this:\n",
    "\n",
    "*   In the first round, your opponent will choose Rock (`A`), and you need the round to end in a draw (`Y`), so you also choose Rock. This gives you a score of 1 + 3 = _4_.\n",
    "*   In the second round, your opponent will choose Paper (`B`), and you choose Rock so you lose (`X`) with a score of 1 + 0 = _1_.\n",
    "*   In the third round, you will defeat your opponent's Scissors with Rock for a score of 1 + 6 = _7_.\n",
    "\n",
    "Now that you're correctly decrypting the ultra top secret strategy guide, you would get a total score of _`12`_.\n",
    "\n",
    "Following the Elf's instructions for the second column, _what would your total score be if everything goes exactly according to your strategy guide?_"
   ]
  },
  {
   "cell_type": "code",
   "execution_count": 2,
   "id": "3db7a3ba-0355-47bc-8869-201b3a7cdf43",
   "metadata": {},
   "outputs": [
    {
     "data": {
      "text/plain": [
       "10334"
      ]
     },
     "execution_count": 2,
     "metadata": {},
     "output_type": "execute_result"
    }
   ],
   "source": [
    "def determine_choice(opo, result):\n",
    "    if opo == 'A':\n",
    "        if result == 'X': return 'Z'\n",
    "        elif result == 'Y': return 'X'\n",
    "        elif result == 'Z': return 'Y'\n",
    "    elif opo == 'B':\n",
    "        if result == 'X': return 'X'\n",
    "        elif result == 'Y': return 'Y'\n",
    "        elif result == 'Z': return 'Z'\n",
    "    elif opo == 'C':\n",
    "        if result == 'X': return 'Y'\n",
    "        elif result == 'Y': return 'Z'\n",
    "        elif result == 'Z': return 'X'\n",
    "    \n",
    "input['own2'] = input.apply(lambda r: determine_choice(r['opo'], r['own']), axis=1)\n",
    "\n",
    "input['score_outcome2'] = input.apply(lambda r: score_outcome(r['opo'], r['own2']), axis=1)\n",
    "input['score_choice2'] = input.apply(lambda r: score_choice(r['own2']), axis=1)\n",
    "\n",
    "input['score2'] = input['score_outcome2'] + input['score_choice2']\n",
    "\n",
    "input['score2'].sum()"
   ]
  }
 ],
 "metadata": {
  "kernelspec": {
   "display_name": "Python 3 (ipykernel)",
   "language": "python",
   "name": "python3"
  },
  "language_info": {
   "codemirror_mode": {
    "name": "ipython",
    "version": 3
   },
   "file_extension": ".py",
   "mimetype": "text/x-python",
   "name": "python",
   "nbconvert_exporter": "python",
   "pygments_lexer": "ipython3",
   "version": "3.9.2"
  }
 },
 "nbformat": 4,
 "nbformat_minor": 5
}
