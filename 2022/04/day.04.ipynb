{
 "cells": [
  {
   "cell_type": "markdown",
   "id": "5ad90425-320f-4c7d-aa2d-9702f332331b",
   "metadata": {
    "tags": []
   },
   "source": [
    "# Day 4: Camp Cleanup\n",
    "\n",
    "[https://adventofcode.com/2022/day/4](https://adventofcode.com/2022/day/4)\n",
    "\n",
    "## Description\n",
    "\n",
    "### Part One\n",
    "\n",
    "Space needs to be cleared before the last supplies can be unloaded from the ships, and so several Elves have been assigned the job of cleaning up sections of the camp. Every section has a unique _ID number_, and each Elf is assigned a range of section IDs.\n",
    "\n",
    "However, as some of the Elves compare their section assignments with each other, they've noticed that many of the assignments _overlap_. To try to quickly find overlaps and reduce duplicated effort, the Elves pair up and make a _big list of the section assignments for each pair_ (your puzzle input).\n",
    "\n",
    "For example, consider the following list of section assignment pairs:\n",
    "\n",
    "    2-4,6-8\n",
    "    2-3,4-5\n",
    "    5-7,7-9\n",
    "    2-8,3-7\n",
    "    6-6,4-6\n",
    "    2-6,4-8\n",
    "    \n",
    "\n",
    "For the first few pairs, this list means:\n",
    "\n",
    "*   Within the first pair of Elves, the first Elf was assigned sections `2-4` (sections `2`, `3`, and `4`), while the second Elf was assigned sections `6-8` (sections `6`, `7`, `8`).\n",
    "*   The Elves in the second pair were each assigned two sections.\n",
    "*   The Elves in the third pair were each assigned three sections: one got sections `5`, `6`, and `7`, while the other also got `7`, plus `8` and `9`.\n",
    "\n",
    "This example list uses single-digit section IDs to make it easier to draw; your actual list might contain larger numbers. Visually, these pairs of section assignments look like this:\n",
    "\n",
    "    .234.....  2-4\n",
    "    .....678.  6-8\n",
    "    \n",
    "    .23......  2-3\n",
    "    ...45....  4-5\n",
    "    \n",
    "    ....567..  5-7\n",
    "    ......789  7-9\n",
    "    \n",
    "    .2345678.  2-8\n",
    "    ..34567..  3-7\n",
    "    \n",
    "    .....6...  6-6\n",
    "    ...456...  4-6\n",
    "    \n",
    "    .23456...  2-6\n",
    "    ...45678.  4-8\n",
    "    \n",
    "\n",
    "Some of the pairs have noticed that one of their assignments _fully contains_ the other. For example, `2-8` fully contains `3-7`, and `6-6` is fully contained by `4-6`. In pairs where one assignment fully contains the other, one Elf in the pair would be exclusively cleaning sections their partner will already be cleaning, so these seem like the most in need of reconsideration. In this example, there are _`2`_ such pairs.\n",
    "\n",
    "_In how many assignment pairs does one range fully contain the other?_"
   ]
  },
  {
   "cell_type": "code",
   "execution_count": 37,
   "id": "a024490f-a718-4ee4-a701-346b5f1a5d08",
   "metadata": {},
   "outputs": [
    {
     "data": {
      "text/plain": [
       "657"
      ]
     },
     "execution_count": 37,
     "metadata": {},
     "output_type": "execute_result"
    }
   ],
   "source": [
    "import pandas as pd\n",
    "\n",
    "test_input = \"\"\"2-4,6-8\n",
    "2-3,4-5\n",
    "5-7,7-9\n",
    "2-8,3-7\n",
    "6-6,4-6\n",
    "2-6,4-8\"\"\"\n",
    "\n",
    "input = open('day.04.input.txt', 'r').readlines()\n",
    "input = [i.replace('\\n','') for i in input]\n",
    "# input = test_input.split('\\n')\n",
    "\n",
    "# print(input)\n",
    "\n",
    "pairs = [[s for s in i.split(',')] for i in input]\n",
    "pairs = [[[int(e.split('-')[0]), int(e.split('-')[1])] for e in p] for p in pairs]\n",
    "\n",
    "def contains(e1, e2):\n",
    "    if (e1[0] <= e2[0]) & (e1[1] >= e2[1]):\n",
    "        return True\n",
    "    elif (e2[0] <= e1[0]) & (e2[1] >= e1[1]):\n",
    "        return True\n",
    "    else:\n",
    "        return False\n",
    "\n",
    "sum([contains(*p) for p in pairs])\n"
   ]
  },
  {
   "cell_type": "markdown",
   "id": "0aa2a595-b98d-43d1-8fd5-129a40e39324",
   "metadata": {
    "tags": []
   },
   "source": [
    "### Part Two\n",
    "\n",
    "It seems like there is still quite a bit of duplicate work planned. Instead, the Elves would <span title=\"If you like this, you'll *love* axis-aligned bounding box intersection testing.\">like</span> to know the number of pairs that _overlap at all_.\n",
    "\n",
    "In the above example, the first two pairs (`2-4,6-8` and `2-3,4-5`) don't overlap, while the remaining four pairs (`5-7,7-9`, `2-8,3-7`, `6-6,4-6`, and `2-6,4-8`) do overlap:\n",
    "\n",
    "*   `5-7,7-9` overlaps in a single section, `7`.\n",
    "*   `2-8,3-7` overlaps all of the sections `3` through `7`.\n",
    "*   `6-6,4-6` overlaps in a single section, `6`.\n",
    "*   `2-6,4-8` overlaps in sections `4`, `5`, and `6`.\n",
    "\n",
    "So, in this example, the number of overlapping assignment pairs is _`4`_.\n",
    "\n",
    "_In how many assignment pairs do the ranges overlap?_"
   ]
  },
  {
   "cell_type": "code",
   "execution_count": 38,
   "id": "e738a16b-41c6-4530-8c6f-dabb37354af4",
   "metadata": {},
   "outputs": [
    {
     "data": {
      "text/plain": [
       "938"
      ]
     },
     "execution_count": 38,
     "metadata": {},
     "output_type": "execute_result"
    }
   ],
   "source": [
    "def overlap(e1, e2):\n",
    "    if (e1[0] <= e2[0]) & (e1[1] >= e2[0]):\n",
    "        return True\n",
    "    elif (e2[0] <= e1[0]) & (e2[1] >= e1[0]):\n",
    "        return True\n",
    "    else:\n",
    "        return False\n",
    "\n",
    "sum([overlap(*p) for p in pairs])"
   ]
  }
 ],
 "metadata": {
  "kernelspec": {
   "display_name": "Python 3 (ipykernel)",
   "language": "python",
   "name": "python3"
  },
  "language_info": {
   "codemirror_mode": {
    "name": "ipython",
    "version": 3
   },
   "file_extension": ".py",
   "mimetype": "text/x-python",
   "name": "python",
   "nbconvert_exporter": "python",
   "pygments_lexer": "ipython3",
   "version": "3.9.2"
  }
 },
 "nbformat": 4,
 "nbformat_minor": 5
}
