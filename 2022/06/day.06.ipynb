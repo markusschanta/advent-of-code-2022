{
 "cells": [
  {
   "cell_type": "markdown",
   "id": "5ad90425-320f-4c7d-aa2d-9702f332331b",
   "metadata": {
    "tags": []
   },
   "source": [
    "# Day 6: Tuning Trouble\n",
    "\n",
    "[https://adventofcode.com/2022/day/6](https://adventofcode.com/2022/day/6)\n",
    "\n",
    "## Description\n",
    "\n",
    "### Part One\n",
    "\n",
    "The preparations are finally complete; you and the Elves leave camp on foot and begin to make your way toward the _star_ fruit grove.\n",
    "\n",
    "As you move through the dense undergrowth, one of the Elves gives you a handheld _device_. He says that it has many fancy features, but the most important one to set up right now is the _communication system_.\n",
    "\n",
    "However, because he's heard you have [significant](https://adventofcode.com/2016/day/6) [experience](https://adventofcode.com/2016/day/25) [dealing](https://adventofcode.com/2019/day/7) [with](https://adventofcode.com/2019/day/9) [signal-based](https://adventofcode.com/2019/day/16) [systems](https://adventofcode.com/2021/day/25), he convinced the other Elves that it would be okay to give you their one malfunctioning device - surely you'll have no problem fixing it.\n",
    "\n",
    "As if inspired by comedic timing, the device emits a few <span title=\"The magic smoke, on the other hand, seems to be contained... FOR NOW!\">colorful sparks</span>.\n",
    "\n",
    "To be able to communicate with the Elves, the device needs to _lock on to their signal_. The signal is a series of seemingly-random characters that the device receives one at a time.\n",
    "\n",
    "To fix the communication system, you need to add a subroutine to the device that detects a _start-of-packet marker_ in the datastream. In the protocol being used by the Elves, the start of a packet is indicated by a sequence of _four characters that are all different_.\n",
    "\n",
    "The device will send your subroutine a datastream buffer (your puzzle input); your subroutine needs to identify the first position where the four most recently received characters were all different. Specifically, it needs to report the number of characters from the beginning of the buffer to the end of the first such four-character marker.\n",
    "\n",
    "For example, suppose you receive the following datastream buffer:\n",
    "\n",
    "    mjqjpqmgbljsphdztnvjfqwrcgsmlb\n",
    "\n",
    "After the first three characters (`mjq`) have been received, there haven't been enough characters received yet to find the marker. The first time a marker could occur is after the fourth character is received, making the most recent four characters `mjqj`. Because `j` is repeated, this isn't a marker.\n",
    "\n",
    "The first time a marker appears is after the _seventh_ character arrives. Once it does, the last four characters received are `jpqm`, which are all different. In this case, your subroutine should report the value _`7`_, because the first start-of-packet marker is complete after 7 characters have been processed.\n",
    "\n",
    "Here are a few more examples:\n",
    "\n",
    "*   `bvwbjplbgvbhsrlpgdmjqwftvncz`: first marker after character _`5`_\n",
    "*   `nppdvjthqldpwncqszvftbrmjlhg`: first marker after character _`6`_\n",
    "*   `nznrnfrfntjfmvfwmzdfjlvtqnbhcprsg`: first marker after character _`10`_\n",
    "*   `zcfzfwzzqfrljwzlrfnpqdbhtmscgvjw`: first marker after character _`11`_\n",
    "\n",
    "_How many characters need to be processed before the first start-of-packet marker is detected?_"
   ]
  },
  {
   "cell_type": "code",
   "execution_count": 1,
   "id": "19954b71-40be-4ccf-b25a-2f6d5eb9421c",
   "metadata": {},
   "outputs": [
    {
     "name": "stdout",
     "output_type": "stream",
     "text": [
      "1929\n"
     ]
    }
   ],
   "source": [
    "signal = open(\"day.06.input.txt\").read()\n",
    "\n",
    "s1 = signal\n",
    "i = 0\n",
    "\n",
    "while len(set(s1[:4])) != 4:\n",
    "    s1 = s1[1:]\n",
    "    i += 1\n",
    "\n",
    "print(i+4)"
   ]
  },
  {
   "cell_type": "markdown",
   "id": "cf2a287d-8ce7-426e-a9f4-b8fb8692e927",
   "metadata": {},
   "source": [
    "### Part Two\n",
    "\n",
    "Your device's communication system is correctly detecting packets, but still isn't working. It looks like it also needs to look for _messages_.\n",
    "\n",
    "A _start-of-message marker_ is just like a start-of-packet marker, except it consists of _14 distinct characters_ rather than 4.\n",
    "\n",
    "Here are the first positions of start-of-message markers for all of the above examples:\n",
    "\n",
    "*   `mjqjpqmgbljsphdztnvjfqwrcgsmlb`: first marker after character _`19`_\n",
    "*   `bvwbjplbgvbhsrlpgdmjqwftvncz`: first marker after character _`23`_\n",
    "*   `nppdvjthqldpwncqszvftbrmjlhg`: first marker after character _`23`_\n",
    "*   `nznrnfrfntjfmvfwmzdfjlvtqnbhcprsg`: first marker after character _`29`_\n",
    "*   `zcfzfwzzqfrljwzlrfnpqdbhtmscgvjw`: first marker after character _`26`_\n",
    "\n",
    "_How many characters need to be processed before the first start-of-message marker is detected?_"
   ]
  },
  {
   "cell_type": "code",
   "execution_count": 2,
   "id": "a0d4d5c7-24b3-4a35-9a77-44cb40efe63d",
   "metadata": {},
   "outputs": [
    {
     "name": "stdout",
     "output_type": "stream",
     "text": [
      "3298\n"
     ]
    }
   ],
   "source": [
    "s2 = signal\n",
    "i = 0\n",
    "\n",
    "while len(set(s2[:14])) != 14:\n",
    "    s2 = s2[1:]\n",
    "    i += 1\n",
    "\n",
    "print(i+14)"
   ]
  }
 ],
 "metadata": {
  "kernelspec": {
   "display_name": "Python 3 (ipykernel)",
   "language": "python",
   "name": "python3"
  },
  "language_info": {
   "codemirror_mode": {
    "name": "ipython",
    "version": 3
   },
   "file_extension": ".py",
   "mimetype": "text/x-python",
   "name": "python",
   "nbconvert_exporter": "python",
   "pygments_lexer": "ipython3",
   "version": "3.9.2"
  }
 },
 "nbformat": 4,
 "nbformat_minor": 5
}
