{
 "cells": [
  {
   "cell_type": "markdown",
   "id": "5ad90425-320f-4c7d-aa2d-9702f332331b",
   "metadata": {
    "tags": []
   },
   "source": [
    "# Day 8: Treetop Tree House\n",
    "\n",
    "[https://adventofcode.com/2022/day/8](https://adventofcode.com/2022/day/8)\n",
    "\n",
    "## Description\n",
    "\n",
    "### Part One\n",
    "\n",
    "The expedition comes across a peculiar patch of tall trees all planted carefully in a grid. The Elves explain that a previous expedition planted these trees as a reforestation effort. Now, they're curious if this would be a good location for a [tree house](https://en.wikipedia.org/wiki/Tree_house).\n",
    "\n",
    "First, determine whether there is enough tree cover here to keep a tree house _hidden_. To do this, you need to count the number of trees that are _visible from outside the grid_ when looking directly along a row or column.\n",
    "\n",
    "The Elves have already launched a [quadcopter](https://en.wikipedia.org/wiki/Quadcopter) to generate a map with the height of each tree (<span title=\"The Elves have already launched a quadcopter (your puzzle input).\">your puzzle input</span>). For example:\n",
    "\n",
    "    30373\n",
    "    25512\n",
    "    65332\n",
    "    33549\n",
    "    35390\n",
    "    \n",
    "\n",
    "Each tree is represented as a single digit whose value is its height, where `0` is the shortest and `9` is the tallest.\n",
    "\n",
    "A tree is _visible_ if all of the other trees between it and an edge of the grid are _shorter_ than it. Only consider trees in the same row or column; that is, only look up, down, left, or right from any given tree.\n",
    "\n",
    "All of the trees around the edge of the grid are _visible_ - since they are already on the edge, there are no trees to block the view. In this example, that only leaves the _interior nine trees_ to consider:\n",
    "\n",
    "*   The top-left `5` is _visible_ from the left and top. (It isn't visible from the right or bottom since other trees of height `5` are in the way.)\n",
    "*   The top-middle `5` is _visible_ from the top and right.\n",
    "*   The top-right `1` is not visible from any direction; for it to be visible, there would need to only be trees of height _0_ between it and an edge.\n",
    "*   The left-middle `5` is _visible_, but only from the right.\n",
    "*   The center `3` is not visible from any direction; for it to be visible, there would need to be only trees of at most height `2` between it and an edge.\n",
    "*   The right-middle `3` is _visible_ from the right.\n",
    "*   In the bottom row, the middle `5` is _visible_, but the `3` and `4` are not.\n",
    "\n",
    "With 16 trees visible on the edge and another 5 visible in the interior, a total of _`21`_ trees are visible in this arrangement.\n",
    "\n",
    "Consider your map; _how many trees are visible from outside the grid?_"
   ]
  },
  {
   "cell_type": "code",
   "execution_count": 1,
   "id": "7336b37d-bfe8-4a1d-9e84-4af90282709d",
   "metadata": {},
   "outputs": [
    {
     "data": {
      "text/plain": [
       "1845"
      ]
     },
     "execution_count": 1,
     "metadata": {},
     "output_type": "execute_result"
    }
   ],
   "source": [
    "import pandas as pd\n",
    "\n",
    "grid = open(\"day.08.input.txt\").read().split(\"\\n\")\n",
    "\n",
    "grid = pd.DataFrame([[int(t) for t in l] for l in grid])\n",
    "\n",
    "visible_from_top = grid.gt(grid.expanding().max().shift(1).fillna(-1))\n",
    "visible_from_left = grid.T.gt(grid.T.expanding().max().shift(1).fillna(-1)).T\n",
    "visible_from_bottom = grid.iloc[::-1, :].gt(grid.iloc[::-1, :].expanding().max().shift(1).fillna(-1)).iloc[::-1, :]\n",
    "visible_from_right = grid.T.iloc[::-1, :].gt(grid.T.iloc[::-1, :].expanding().max().shift(1).fillna(-1)).iloc[::-1, :].T\n",
    "\n",
    "(visible_from_top | visible_from_left | visible_from_bottom | visible_from_right).sum().sum()"
   ]
  },
  {
   "cell_type": "markdown",
   "id": "69490cf3-a977-4a63-9a2c-50c231886c54",
   "metadata": {},
   "source": [
    "### Part Two\n",
    "\n",
    "Content with the amount of tree cover available, the Elves just need to know the best spot to build their tree house: they would like to be able to see a lot of _trees_.\n",
    "\n",
    "To measure the viewing distance from a given tree, look up, down, left, and right from that tree; stop if you reach an edge or at the first tree that is the same height or taller than the tree under consideration. (If a tree is right on the edge, at least one of its viewing distances will be zero.)\n",
    "\n",
    "The Elves don't care about distant trees taller than those found by the rules above; the proposed tree house has large [eaves](https://en.wikipedia.org/wiki/Eaves) to keep it dry, so they wouldn't be able to see higher than the tree house anyway.\n",
    "\n",
    "In the example above, consider the middle `5` in the second row:\n",
    "\n",
    "    30373\n",
    "    25512\n",
    "    65332\n",
    "    33549\n",
    "    35390\n",
    "    \n",
    "\n",
    "*   Looking up, its view is not blocked; it can see _`1`_ tree (of height `3`).\n",
    "*   Looking left, its view is blocked immediately; it can see only _`1`_ tree (of height `5`, right next to it).\n",
    "*   Looking right, its view is not blocked; it can see _`2`_ trees.\n",
    "*   Looking down, its view is blocked eventually; it can see _`2`_ trees (one of height `3`, then the tree of height `5` that blocks its view).\n",
    "\n",
    "A tree's _scenic score_ is found by _multiplying together_ its viewing distance in each of the four directions. For this tree, this is _`4`_ (found by multiplying `1 * 1 * 2 * 2`).\n",
    "\n",
    "However, you can do even better: consider the tree of height `5` in the middle of the fourth row:\n",
    "\n",
    "    30373\n",
    "    25512\n",
    "    65332\n",
    "    33549\n",
    "    35390\n",
    "    \n",
    "\n",
    "*   Looking up, its view is blocked at _`2`_ trees (by another tree with a height of `5`).\n",
    "*   Looking left, its view is not blocked; it can see _`2`_ trees.\n",
    "*   Looking down, its view is also not blocked; it can see _`1`_ tree.\n",
    "*   Looking right, its view is blocked at _`2`_ trees (by a massive tree of height `9`).\n",
    "\n",
    "This tree's scenic score is _`8`_ (`2 * 2 * 1 * 2`); this is the ideal spot for the tree house.\n",
    "\n",
    "Consider each tree on your map. _What is the highest scenic score possible for any tree?_\n"
   ]
  },
  {
   "cell_type": "code",
   "execution_count": 2,
   "id": "263e2852-7fd3-4c61-bfc8-0c48f40cb344",
   "metadata": {},
   "outputs": [
    {
     "data": {
      "text/plain": [
       "230112"
      ]
     },
     "execution_count": 2,
     "metadata": {},
     "output_type": "execute_result"
    }
   ],
   "source": [
    "import numpy as np\n",
    "\n",
    "score = grid.copy()\n",
    "for y in grid.index:\n",
    "    for x in grid.columns:\n",
    "        score.iloc[y, x] = np.prod([line_of_sight.expanding().max().lt(grid.iloc[y, x]).sum() + \\\n",
    "                                    int(line_of_sight.max() >= grid.iloc[y, x]) for line_of_sight in \\\n",
    "                                    [grid.iloc[:y, x].iloc[::-1], grid.iloc[y+1:, x], grid.iloc[y, :x].iloc[::-1], grid.iloc[y, x+1:]]])\n",
    "\n",
    "score.max().max()"
   ]
  }
 ],
 "metadata": {
  "kernelspec": {
   "display_name": "Python 3 (ipykernel)",
   "language": "python",
   "name": "python3"
  },
  "language_info": {
   "codemirror_mode": {
    "name": "ipython",
    "version": 3
   },
   "file_extension": ".py",
   "mimetype": "text/x-python",
   "name": "python",
   "nbconvert_exporter": "python",
   "pygments_lexer": "ipython3",
   "version": "3.9.2"
  }
 },
 "nbformat": 4,
 "nbformat_minor": 5
}
